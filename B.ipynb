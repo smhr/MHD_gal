{
 "cells": [
  {
   "cell_type": "code",
   "execution_count": 1,
   "metadata": {},
   "outputs": [],
   "source": [
    "import numpy as np\n",
    "import matplotlib.pyplot as plt\n",
    "from matplotlib import ticker"
   ]
  },
  {
   "cell_type": "code",
   "execution_count": 58,
   "metadata": {},
   "outputs": [],
   "source": [
    "plt.style.use('bmh')\n",
    "plt.style.use({'axes.facecolor': 'white', 'xtick.direction' : 'in', 'ytick.direction' : 'in'\n",
    "              , 'xtick.top' : 'True', 'ytick.right' : 'True', 'xtick.labelsize': 20, 'ytick.labelsize': 20})\n",
    "plt.style.use({\"xtick.major.size\": 15, \"ytick.major.size\": 15})\n",
    "plt.style.use({\"xtick.minor.size\": 10, \"ytick.minor.size\": 10})\n",
    "\n",
    "from matplotlib import rc\n",
    "rc('font',**{'family':'serif','serif':['Palatino'], 'size'   : 17})\n",
    "rc('text', usetex=True)"
   ]
  },
  {
   "cell_type": "code",
   "execution_count": 59,
   "metadata": {},
   "outputs": [],
   "source": [
    "z = np.linspace(0, 3.5, 100)"
   ]
  },
  {
   "cell_type": "code",
   "execution_count": 60,
   "metadata": {},
   "outputs": [],
   "source": [
    "SFR = (1+z)**(2.9)\n",
    "B = SFR**(1./3)"
   ]
  },
  {
   "cell_type": "code",
   "execution_count": 69,
   "metadata": {},
   "outputs": [],
   "source": [
    "fig, (ax1) = plt.subplots(1, 1, figsize=(7,7))\n",
    "\n",
    "ax1.semilogy(z, SFR, label=r'SFR $\\propto (1+z)^{2.9}$')\n",
    "ax1.semilogy(z, B, label=r'B $\\propto (1+z)^{0.97}$');\n",
    "\n",
    "ax1.set_xlim(0, 3.5)\n",
    "ax1.set_ylim(1,100)\n",
    "ax1.set_yscale('log')\n",
    "ax1.set_yticks([1, 10, 100])\n",
    "ax1.set_yticklabels(['1', '10', '100'])\n",
    "ax1.set_xlabel('z', fontsize=20)\n",
    "ax1.set_ylabel('evolution relative to z = 0', fontsize=20)\n",
    "ax1.set_title('evolution (z)', fontsize=20);\n",
    "\n",
    "leg = plt.legend(loc=0, frameon = 1, handlelength=5)\n",
    "frame = leg.get_frame()\n",
    "frame.set_facecolor('floralwhite')\n",
    "    \n",
    "for text in leg.get_texts():\n",
    "    text.set_color('#080200')\n",
    "plt.savefig('SFR_B_evolution.pdf', dpi=400, bbox_inches='tight')\n",
    "plt.close(fig)"
   ]
  },
  {
   "cell_type": "code",
   "execution_count": null,
   "metadata": {},
   "outputs": [],
   "source": []
  }
 ],
 "metadata": {
  "kernelspec": {
   "display_name": "Python 3",
   "language": "python",
   "name": "python3"
  },
  "language_info": {
   "codemirror_mode": {
    "name": "ipython",
    "version": 3
   },
   "file_extension": ".py",
   "mimetype": "text/x-python",
   "name": "python",
   "nbconvert_exporter": "python",
   "pygments_lexer": "ipython3",
   "version": "3.8.3"
  }
 },
 "nbformat": 4,
 "nbformat_minor": 4
}
